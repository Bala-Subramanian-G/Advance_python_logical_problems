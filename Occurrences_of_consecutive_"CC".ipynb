{
  "nbformat": 4,
  "nbformat_minor": 0,
  "metadata": {
    "colab": {
      "provenance": [],
      "authorship_tag": "ABX9TyMLyMT7aL24hV963DwKvJdz",
      "include_colab_link": true
    },
    "kernelspec": {
      "name": "python3",
      "display_name": "Python 3"
    },
    "language_info": {
      "name": "python"
    }
  },
  "cells": [
    {
      "cell_type": "markdown",
      "metadata": {
        "id": "view-in-github",
        "colab_type": "text"
      },
      "source": [
        "<a href=\"https://colab.research.google.com/github/Bala-Subramanian-G/Advance_python_logical_problems/blob/main/Occurrences_of_consecutive_%22CC%22.ipynb\" target=\"_parent\"><img src=\"https://colab.research.google.com/assets/colab-badge.svg\" alt=\"Open In Colab\"/></a>"
      ]
    },
    {
      "cell_type": "markdown",
      "source": [
        "**Problem:** Count the occurrences of consecutive \"CC\" pairs in a list of strings.\n",
        "\n",
        "*Criteria:*\n",
        "1. A valid \"CC\" pair consists of exactly two consecutive uppercase 'C' characters.\n",
        "2. Any string containing characters other than 'C' or 'c' should be ignored.\n",
        "3. Overlapping pairs (such as \"CCC\") are not counted as multiple \"CC\" pairs. Only distinct \"CC\" pairs should be counted.\n",
        "\n",
        "*Examples:*\n",
        "\n",
        "* **Input**: `['CCcCC', 'cCCc', 'CC', 'CCCcCC']`\n",
        "* **Output Explanation**:\n",
        "   * **'CCcCC'** contains **2** valid \"CC\" pairs.\n",
        "   * **'CCCc'** contains **0** valid pairs, as \"CCC\" is not distinct \"CC\".\n",
        "   * **'CCCcCC'** contains **1** valid \"CC\" pair.\n",
        "   * **'aCCcCC'** contains **0** pairs due to the presence of characters other than 'C' or 'c'."
      ],
      "metadata": {
        "id": "hC4f_IvQh9Rr"
      }
    },
    {
      "cell_type": "code",
      "source": [
        "a = ['cCCc', 'CCcCC', 'cCCCc', 'aCCa', 'CCb', 'acCCc'] # input\n",
        "\n",
        "c = 0  # Counter to track the number of valid \"CC\" pairs\n",
        "\n",
        "for i in a:\n",
        "    w = ''  # Temporary string to build a modified version of each word\n",
        "    for j in i:\n",
        "        # Ignore words containing any character other than 'C' or 'c'\n",
        "        if j != 'c' and j != 'C':\n",
        "            w = ''\n",
        "            break\n",
        "        # Replace lowercase 'c' with whitespace to separate 'C' groups\n",
        "        elif j != 'C':\n",
        "            w += ' '\n",
        "        else:\n",
        "            w += j  # Append uppercase 'C' directly to retain pairs\n",
        "\n",
        "    # Split modified string by whitespace to isolate distinct \"CC\" pairs\n",
        "    l = w.split()\n",
        "\n",
        "    # Count occurrences of \"CC\" in the list and add to the total counter\n",
        "    c += l.count('CC')\n",
        "\n",
        "print(f\"There is totally {c} pairs of CC.\")"
      ],
      "metadata": {
        "colab": {
          "base_uri": "https://localhost:8080/"
        },
        "id": "ljf5z2KHh9ym",
        "outputId": "ec6caed3-2923-4764-d986-edcd76945ca5"
      },
      "execution_count": 3,
      "outputs": [
        {
          "output_type": "stream",
          "name": "stdout",
          "text": [
            "There is totally 3 pairs of CC.\n"
          ]
        }
      ]
    }
  ]
}