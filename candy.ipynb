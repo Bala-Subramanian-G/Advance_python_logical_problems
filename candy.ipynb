{
  "nbformat": 4,
  "nbformat_minor": 0,
  "metadata": {
    "colab": {
      "provenance": [],
      "authorship_tag": "ABX9TyNrsZ5w19d81DSFAo2SQaDV",
      "include_colab_link": true
    },
    "kernelspec": {
      "name": "python3",
      "display_name": "Python 3"
    },
    "language_info": {
      "name": "python"
    }
  },
  "cells": [
    {
      "cell_type": "markdown",
      "metadata": {
        "id": "view-in-github",
        "colab_type": "text"
      },
      "source": [
        "<a href=\"https://colab.research.google.com/github/Bala-Subramanian-G/Advance_python_logical_problems/blob/main/candy.ipynb\" target=\"_parent\"><img src=\"https://colab.research.google.com/assets/colab-badge.svg\" alt=\"Open In Colab\"/></a>"
      ]
    },
    {
      "cell_type": "markdown",
      "source": [
        "There are `n` children standing in a line. Each child is assigned a rating value given in the integer array `ratings`.\n",
        "\n",
        "You are giving candies to these children subjected to the following requirements:\n",
        "\n",
        "1. Each child must have at least one candy.\n",
        "2. Children with a higher rating get more candies than their neighbors.\n",
        "\n",
        "Return the minimum number of candies you need to have to distribute the candies to the children.\n",
        "\n",
        "### Example 1:\n",
        "**Input:** `ratings = [1,0,2]`  \n",
        "**Output:** `5`  \n",
        "**Explanation:** You can allocate to the first, second, and third child with 2, 1, 2 candies respectively.\n",
        "\n",
        "### Example 2:\n",
        "**Input:** `ratings = [1,2,2]`  \n",
        "**Output:** `4`  \n",
        "**Explanation:** You can allocate to the first, second, and third child with 1, 2, 1 candies respectively. The third child gets 1 candy because it satisfies the above two conditions.\n",
        "\n",
        "### Constraints:\n",
        "- \\( n == \\text{ratings.length} \\)\n",
        "- \\( 1 \\leq n \\leq 2 \\times 10^4 \\)\n",
        "- \\( 0 \\leq \\text{ratings}[i] \\leq 2 \\times 10^4 \\)"
      ],
      "metadata": {
        "id": "AjXK8ECsaczc"
      }
    },
    {
      "cell_type": "code",
      "source": [
        "def candy(ratings):\n",
        "  if len(ratings)==1: # if there are only one children\n",
        "    return 1 # return 1 candy\n",
        "\n",
        "  if ratings[0] > ratings[1]: # adding candy for first children\n",
        "    candy = [2]\n",
        "  else:\n",
        "    candy = [1]\n",
        "  # print(candy)\n",
        "\n",
        "  for i in range(1, len(ratings)-1):\n",
        "    if ratings[i] > ratings[i-1]: # current rating > previous rating\n",
        "      candy.append(candy[i-1]+1)\n",
        "\n",
        "    elif ratings[i] > ratings[i+1]: # current rating > next rating\n",
        "      candy.append(2)\n",
        "\n",
        "      if candy[i-1] <= 2: # reverse checking for candies\n",
        "        for j in range(i-1, -1, -1):\n",
        "          if ratings[j] <= ratings[j+1]:\n",
        "            break\n",
        "          elif candy[j] <= candy[j+1]:\n",
        "            candy[j] += 1\n",
        "\n",
        "    else: # current rating > both previous and next rating\n",
        "      candy.append(1)\n",
        "    # print(candy)\n",
        "\n",
        "  if ratings[-1] > ratings[-2]: # adding candy for last children\n",
        "    candy.append(candy[-1]+1)\n",
        "  else:\n",
        "    candy.append(1)\n",
        "\n",
        "  # print(candy) # to see no of candies assigned to each\n",
        "  return sum(candy)\n",
        "\n",
        "\n",
        "print(candy([1,3,4,2,1])) #9\n",
        "print(candy([1,3,4,4,1])) #9\n",
        "print(candy([1,3,1,2,1])) #7\n",
        "print(candy([1,2,87,87,87,2,1])) #13\n",
        "print(candy([1,6,10,8,7,3,2])) #18\n",
        "print(candy([0,1,2,5,3,2,7])) #15\n",
        "print(candy([1,2,3,5,4,3,2,1])) #21\n",
        "print(candy([0])) #1"
      ],
      "metadata": {
        "colab": {
          "base_uri": "https://localhost:8080/"
        },
        "id": "qL_nYUaNaPKC",
        "outputId": "61c19279-ee07-4948-9822-a97f846c189a"
      },
      "execution_count": 33,
      "outputs": [
        {
          "output_type": "stream",
          "name": "stdout",
          "text": [
            "9\n",
            "9\n",
            "7\n",
            "13\n",
            "18\n",
            "15\n",
            "21\n",
            "1\n"
          ]
        }
      ]
    }
  ]
}