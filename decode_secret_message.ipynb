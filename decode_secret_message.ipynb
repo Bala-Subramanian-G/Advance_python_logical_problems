{
  "nbformat": 4,
  "nbformat_minor": 0,
  "metadata": {
    "colab": {
      "provenance": [],
      "authorship_tag": "ABX9TyNU6GEWJTwNcUYEE0J8SsFk",
      "include_colab_link": true
    },
    "kernelspec": {
      "name": "python3",
      "display_name": "Python 3"
    },
    "language_info": {
      "name": "python"
    }
  },
  "cells": [
    {
      "cell_type": "markdown",
      "metadata": {
        "id": "view-in-github",
        "colab_type": "text"
      },
      "source": [
        "<a href=\"https://colab.research.google.com/github/Bala-Subramanian-G/Advance_python_logical_problems/blob/main/decode_secret_message.ipynb\" target=\"_parent\"><img src=\"https://colab.research.google.com/assets/colab-badge.svg\" alt=\"Open In Colab\"/></a>"
      ]
    },
    {
      "cell_type": "markdown",
      "source": [
        "Let's assume. You are Sanjay's friend and you're asking him about his new job. As his job role is so confedential, sanjay is not willing to reveal it. He will have to risk his life if he wants to reveal his job role. In middle of your conversation, he received a code-word from his boss, that holds some secret message. By the way, that code word is 'DFHFJA'. He decoded it as 11138. Suddenly, he got adrenaline rush and decided to test his survival luck. So he shares about that code-word matter with you and also tells you how to decode every code-word that he receives from his boss.\n",
        "\n",
        "He says, \"Every code-word will just have set of alphabets. Just imagine the alphabetical order. Find the number of alphabets present in between every two nearby letters. Finally, consolidate all the numbers, which will be the decoded secret message.\"\n",
        "\n",
        "But the plot twist is that he doesn't know that you're also working as a secret agent in some another company. That's not only it. His boss and your boss is enemy. You are very much loyal to your boss and cheating Sanjay by pretending to be his friend. Your only intention to this day was getting to know about that code-word and the way to decode it. Now you got it and you're going to tell your boss about it! Your boss is very happy but he doesn't want your help everytime. So your boss asks you to write the python program that will take the code-word as user input, decode it and return the decoded secret number to you.\n",
        "\n",
        "|\n",
        "\n",
        "|\n",
        "\n",
        "\n",
        "**EXAMPLE**:\n",
        "\n",
        "**INPUT**: 'DFHFJA'\n",
        "\n",
        "**OUTPUT**: 11138\n",
        "\n",
        "**EXPLANATION**:\n",
        "\n",
        "* No of alphabets present in between D and F are 1\n",
        "* No of alphabets present in between F and H are 1\n",
        "* No of alphabets present in between H and F are 1\n",
        "* No of alphabets present in between F and J are 3\n",
        "* No of alphabets present in between J and A are 8\n",
        "\n",
        "Finally, consolidate all of them, which will be the answer. (11138)"
      ],
      "metadata": {
        "id": "5q6F2dmJJUru"
      }
    },
    {
      "cell_type": "code",
      "source": [
        "letters = 'ABCDEFGHIJKLMNOPQRSTUVWXYZ'\n",
        "code = 'BJFHGC'\n",
        "decode = ''\n",
        "for i in range(0,len(code)-1):\n",
        "  decode += str(abs( letters.find(code[i])-letters.find(code[i+1]) )-1)\n",
        "  # print(f\"No of alphabets present in between {code[i]} and {code[i+1]} are {abs(letters.find(code[i]) - letters.find(code[i+1]))-1}\")\n",
        "\n",
        "print(\"The secret message:\", decode)"
      ],
      "metadata": {
        "colab": {
          "base_uri": "https://localhost:8080/"
        },
        "id": "lW45BSlJGs7r",
        "outputId": "0b9d5256-b1c8-46c8-b3cc-787394335977"
      },
      "execution_count": null,
      "outputs": [
        {
          "output_type": "stream",
          "name": "stdout",
          "text": [
            "The secret message: 73103\n"
          ]
        }
      ]
    }
  ]
}