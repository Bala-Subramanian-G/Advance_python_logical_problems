{
  "nbformat": 4,
  "nbformat_minor": 0,
  "metadata": {
    "colab": {
      "provenance": [],
      "authorship_tag": "ABX9TyMGWtbXYCNKv37/7+g9pQd3",
      "include_colab_link": true
    },
    "kernelspec": {
      "name": "python3",
      "display_name": "Python 3"
    },
    "language_info": {
      "name": "python"
    }
  },
  "cells": [
    {
      "cell_type": "markdown",
      "metadata": {
        "id": "view-in-github",
        "colab_type": "text"
      },
      "source": [
        "<a href=\"https://colab.research.google.com/github/Bala-Subramanian-G/Advance_python_logical_problems/blob/main/sum_first_last_elements.ipynb\" target=\"_parent\"><img src=\"https://colab.research.google.com/assets/colab-badge.svg\" alt=\"Open In Colab\"/></a>"
      ]
    },
    {
      "cell_type": "markdown",
      "source": [
        "You are given a list of integers. Your task is to create a new list where each element is the sum of the first and last remaining elements of the original list. Continue this process until you handle all elements. If there is an odd number of elements in the list, the middle element should be included as the last element in the output.\n",
        "\n",
        "**Example 1:**\n",
        "\n",
        "Input: [1, 2, 3, 4, 5]\n",
        "\n",
        "Output: [6, 6, 3]\n",
        "\n",
        "Explanation:\n",
        "- Sum the first and last elements: 1 + 5 = 6.\n",
        "- Sum the new first and last elements: 2 + 4 = 6.\n",
        "- Only one element remains, so append it: 3.\n",
        "\n",
        "\n",
        "**Example 2:**\n",
        "\n",
        "Input: [10, 20, 30, 40]\n",
        "\n",
        "Output: [50, 50]\n",
        "\n",
        "Explanation:\n",
        "- Sum the first and last elements: 10 + 40 = 50.\n",
        "- Sum the new first and last elements: 20 + 30 = 50."
      ],
      "metadata": {
        "id": "OlbAbspgquyK"
      }
    },
    {
      "cell_type": "code",
      "source": [
        "a = eval(input(\"Enter list:\"))\n",
        "output = []\n",
        "\n",
        "while True:\n",
        "  if len(a)>1:\n",
        "    output.append(a[0]+a[-1])\n",
        "    del a[0]\n",
        "    del a[-1]\n",
        "  elif len(a)==1:\n",
        "    output.append(a[0])\n",
        "    break\n",
        "  elif len(a)==0:\n",
        "    break\n",
        "print(output)"
      ],
      "metadata": {
        "id": "TFnAMROQ3DtT",
        "colab": {
          "base_uri": "https://localhost:8080/"
        },
        "outputId": "b76008d4-adbe-4fda-bc18-91012a983871"
      },
      "execution_count": null,
      "outputs": [
        {
          "output_type": "stream",
          "name": "stdout",
          "text": [
            "Enter list:[1, 3, 3, 4, 5, 6, 7, 9]\n",
            "[10, 10, 9, 9]\n"
          ]
        }
      ]
    }
  ]
}