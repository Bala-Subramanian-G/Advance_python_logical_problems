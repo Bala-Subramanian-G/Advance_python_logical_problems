{
  "nbformat": 4,
  "nbformat_minor": 0,
  "metadata": {
    "colab": {
      "provenance": [],
      "authorship_tag": "ABX9TyPu+nTEn8bma8qDxzsK4GYk",
      "include_colab_link": true
    },
    "kernelspec": {
      "name": "python3",
      "display_name": "Python 3"
    },
    "language_info": {
      "name": "python"
    }
  },
  "cells": [
    {
      "cell_type": "markdown",
      "metadata": {
        "id": "view-in-github",
        "colab_type": "text"
      },
      "source": [
        "<a href=\"https://colab.research.google.com/github/Bala-Subramanian-G/Advance_python_logical_problems/blob/main/Decode_phone_keypad_text.ipynb\" target=\"_parent\"><img src=\"https://colab.research.google.com/assets/colab-badge.svg\" alt=\"Open In Colab\"/></a>"
      ]
    },
    {
      "cell_type": "markdown",
      "source": [
        "**Problem:** Decode a sequence of numbers representing text on a phone keypad.\n",
        "\n",
        "*Description:*\n",
        "1. The input is a string of numbers separated by hyphens (`-`). Each group of numbers represents a letter, similar to typing on a classic phone keypad (e.g., pressing `2` once for \"A\", twice for \"B\", etc.).\n",
        "2. The keypad layout is as follows:\n",
        "   - `1 -> .,@!`\n",
        "   - `2 -> ABC`\n",
        "   - `3 -> DEF`\n",
        "   - `4 -> GHI`\n",
        "   - `5 -> JKL`\n",
        "   - `6 -> MNO`\n",
        "   - `7 -> PQRS`\n",
        "   - `8 -> TUV`\n",
        "   - `9 -> WXYZ`\n",
        "   - `0 -> (space)`\n",
        "\n",
        "3. Each hyphen-separated group consists of repeated presses of a single digit to represent a character. For example:\n",
        "   - `'22'` represents `'B'`\n",
        "   - `'777'` represents `'R'`\n",
        "\n",
        "*Rules*:\n",
        "- **Valid Input**: Each group should contain only repetitions of a single digit (e.g., `'222'`, `'555'`).\n",
        "- **Invalid Input**: Any group with mixed digits is invalid (e.g., `'23'`). If an invalid group is detected, the program should print an error message and stop processing further.\n",
        "\n",
        "*Example*:\n",
        "\n",
        "**Input**: `'44-33-555-555-666-0-9-666-777-555-3-1111'`  \n",
        "**Output**: `'HELLO WORLD!'`"
      ],
      "metadata": {
        "id": "rPaxc8PTkLFZ"
      }
    },
    {
      "cell_type": "code",
      "source": [
        "def phonepad(ip):\n",
        "    text = {1: '.,@!', 2: 'ABC', 3: 'DEF', 4: 'GHI', 5: 'JKL',\n",
        "            6: 'MNO', 7: 'PQRS', 8: 'TUV', 9: 'WXYZ', 0: ' '}\n",
        "\n",
        "    a = int(ip[0])  # Convert the first character to an integer to identify the key\n",
        "    l = len(ip) - 1  # Calculate how many times the key was pressed\n",
        "    size = len(text.get(a))  # Get the number of characters associated with this key\n",
        "\n",
        "    return text.get(a)[l % size]  # Return the character corresponding to the press count"
      ],
      "metadata": {
        "id": "-rGEZ_HqkO9S"
      },
      "execution_count": 5,
      "outputs": []
    },
    {
      "cell_type": "code",
      "source": [
        "a = '44-33-555-555-666-0-9-666-777-555-3-1111'   # input\n",
        "# a = '22-222-67'\n",
        "\n",
        "input_list = a.split('-')  # Split the input by hyphens to separate each key press group\n",
        "output = ''  # Initialize an empty string to build the output text\n",
        "\n",
        "for i in input_list:\n",
        "    # Check if the group contains only repeated instances of a single digit\n",
        "    if len(set(i)) != 1:\n",
        "        print(f'Invalid input.\\nMore than single character is given in single set ({i})')\n",
        "        break  # Exit the loop if an invalid group is found\n",
        "    else:\n",
        "        output += phonepad(i)  # Append the decoded character to the output string\n",
        "\n",
        "# If the loop completes without finding invalid input, print the final output\n",
        "else:\n",
        "    print(output)"
      ],
      "metadata": {
        "colab": {
          "base_uri": "https://localhost:8080/"
        },
        "id": "V_n9v5limJs0",
        "outputId": "2cb30629-569c-47c2-e053-d105d2c8df15"
      },
      "execution_count": 11,
      "outputs": [
        {
          "output_type": "stream",
          "name": "stdout",
          "text": [
            "HELLO WORLD!\n"
          ]
        }
      ]
    }
  ]
}