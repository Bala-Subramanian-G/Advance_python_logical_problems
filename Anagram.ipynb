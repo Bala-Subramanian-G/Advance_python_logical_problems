{
  "nbformat": 4,
  "nbformat_minor": 0,
  "metadata": {
    "colab": {
      "provenance": [],
      "authorship_tag": "ABX9TyMg+/8p7x4cSYtDECTnLO2Z",
      "include_colab_link": true
    },
    "kernelspec": {
      "name": "python3",
      "display_name": "Python 3"
    },
    "language_info": {
      "name": "python"
    }
  },
  "cells": [
    {
      "cell_type": "markdown",
      "metadata": {
        "id": "view-in-github",
        "colab_type": "text"
      },
      "source": [
        "<a href=\"https://colab.research.google.com/github/Bala-Subramanian-G/Advance_python_logical_problems/blob/main/Anagram.ipynb\" target=\"_parent\"><img src=\"https://colab.research.google.com/assets/colab-badge.svg\" alt=\"Open In Colab\"/></a>"
      ]
    },
    {
      "cell_type": "markdown",
      "source": [
        "Given an array of strings, group anagrams together.\n",
        "\n",
        "Sample input --> [\"eat\", \"tea\", \"tan\", \"ate\", \"nat\", \"bat\"]\n",
        "\n",
        "Sample output --> [  [\"ate\",\"eat\",\"tea\"], [\"nat\",\"tan\"], [\"bat\"]]"
      ],
      "metadata": {
        "id": "O8gnPAS8ijwq"
      }
    },
    {
      "cell_type": "code",
      "source": [
        "def group_anagrams(a): # a --> input_list\n",
        "  output = []\n",
        "\n",
        "  while len(a) != 1 and len(a)!=0:\n",
        "    anagram = []\n",
        "    for i in range(1, len(a)):\n",
        "      if sorted(a[0]) == sorted(a[i]): # means, if these two words are anagram.\n",
        "        anagram.append(a[i])\n",
        "    anagram.append(a[0])\n",
        "    output.append(anagram)\n",
        "\n",
        "    for k in anagram:\n",
        "      a.remove(k)\n",
        "\n",
        "  if len(a) == 1:\n",
        "    output.append([a[0]])\n",
        "  print(output)\n",
        "\n",
        "\n",
        "group_anagrams([\"eat\", \"tea\", \"tan\", \"ate\", \"nat\", \"bat\"])\n",
        "group_anagrams([\"a\"])\n",
        "group_anagrams([\"\"])\n",
        "group_anagrams([\"\", \"b\", \"\"])\n",
        "group_anagrams([\"listen\", \"silent\", \"enlist\", \"google\", \"goggle\", \"logoge\"])\n",
        "group_anagrams([\"\", \"a\", \"aa\", \"aaa\", \"aaaa\"])\n",
        "group_anagrams([\"abc\", \"bca\", \"cab\", \"abc\"])\n",
        "group_anagrams([\"a\", \"b\", \"c\", \"a\", \"b\", \"c\"])\n",
        "group_anagrams([\"cinema\", \"iceman\", \"anemic\", \"manic\", \"namic\"])\n",
        "group_anagrams([\"rat\", \"tar\", \"art\", \"star\", \"tars\", \"rats\"])"
      ],
      "metadata": {
        "colab": {
          "base_uri": "https://localhost:8080/"
        },
        "id": "4mKI6ZTxv7f4",
        "outputId": "c31cc630-458d-4af9-b3ca-1d357f1a8465"
      },
      "execution_count": null,
      "outputs": [
        {
          "output_type": "stream",
          "name": "stdout",
          "text": [
            "[['tea', 'ate', 'eat'], ['nat', 'tan'], ['bat']]\n",
            "[['a']]\n",
            "[['']]\n",
            "[['', ''], ['b']]\n",
            "[['silent', 'enlist', 'listen'], ['logoge', 'google'], ['goggle']]\n",
            "[[''], ['a'], ['aa'], ['aaa'], ['aaaa']]\n",
            "[['bca', 'cab', 'abc', 'abc']]\n",
            "[['a', 'a'], ['b', 'b'], ['c', 'c']]\n",
            "[['iceman', 'anemic', 'cinema'], ['namic', 'manic']]\n",
            "[['tar', 'art', 'rat'], ['tars', 'rats', 'star']]\n"
          ]
        }
      ]
    }
  ]
}