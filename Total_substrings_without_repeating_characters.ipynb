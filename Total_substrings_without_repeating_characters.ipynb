{
  "nbformat": 4,
  "nbformat_minor": 0,
  "metadata": {
    "colab": {
      "provenance": [],
      "authorship_tag": "ABX9TyM96WzSpaeeASa/nAUvFLmF",
      "include_colab_link": true
    },
    "kernelspec": {
      "name": "python3",
      "display_name": "Python 3"
    },
    "language_info": {
      "name": "python"
    }
  },
  "cells": [
    {
      "cell_type": "markdown",
      "metadata": {
        "id": "view-in-github",
        "colab_type": "text"
      },
      "source": [
        "<a href=\"https://colab.research.google.com/github/Bala-Subramanian-G/Advance_python_logical_problems/blob/main/Total_substrings_without_repeating_characters.ipynb\" target=\"_parent\"><img src=\"https://colab.research.google.com/assets/colab-badge.svg\" alt=\"Open In Colab\"/></a>"
      ]
    },
    {
      "cell_type": "markdown",
      "source": [
        "**Problem:** Find all substrings of a given string that contain no repeating characters and determine the length of the longest such substring.\n",
        "\n",
        "*Description*:\n",
        "1. The input is a single string.\n",
        "2. You need to generate all possible substrings of this input string.\n",
        "3. For each substring, check if it contains any repeating characters:\n",
        "   - If a substring has all unique characters (i.e., no duplicates), it should be considered a valid substring and added to a list of results.\n",
        "4. Finally, determine the length of the longest substring that contains no repeating characters.\n",
        "\n",
        "*Example*:\n",
        "\n",
        "**Input**: `\"anviaj\"`  \n",
        "**Output**:\n",
        "   - **Total substrings without repeating characters**: `['a', 'an', 'anv', 'anvi', 'anvia', 'n', 'nv', 'nvi', 'nvij', 'v', 'vi', 'via', 'vij', 'i', 'ia', 'iaj', 'a', 'aj', 'j']`\n",
        "   - **Length of the longest substring without repeating characters**: `5`"
      ],
      "metadata": {
        "id": "G3m4kT-AoBDL"
      }
    },
    {
      "cell_type": "code",
      "source": [
        "input_str = \"anviaj\" # Input String\n",
        "\n",
        "l = len(input_str)\n",
        "substrings = []\n",
        "for i in range(l):\n",
        "  for j in range(i+1,l+1):\n",
        "    sub_str = input_str[i:j]\n",
        "    # checking whether a substring contains duplicate elements by checking the length of list and set version of sub string\n",
        "    if len(set(sub_str)) == len(list(sub_str)):\n",
        "      substrings.append(sub_str)\n",
        "\n",
        "len_of_substrs = list(map(len, substrings))\n",
        "\n",
        "print('Total substrings without repeating characters:', substrings)\n",
        "print('Length of the longest substring without repeating characters:', max(len_of_substrs) if len(input_str)!=0 else 0)"
      ],
      "metadata": {
        "colab": {
          "base_uri": "https://localhost:8080/"
        },
        "id": "KZ6z98k0oEtb",
        "outputId": "fe82ae87-175b-4c14-bbd0-dd8b61822a39"
      },
      "execution_count": 12,
      "outputs": [
        {
          "output_type": "stream",
          "name": "stdout",
          "text": [
            "Total substrings without repeating characters: ['a', 'an', 'anv', 'anvi', 'n', 'nv', 'nvi', 'nvia', 'nviaj', 'v', 'vi', 'via', 'viaj', 'i', 'ia', 'iaj', 'a', 'aj', 'j']\n",
            "Length of the longest substring without repeating characters: 5\n"
          ]
        }
      ]
    }
  ]
}
